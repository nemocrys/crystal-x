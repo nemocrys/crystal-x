{
 "cells": [
  {
   "attachments": {},
   "cell_type": "markdown",
   "metadata": {},
   "source": [
    "# Analytical solution of temperature distribution in cylinder"
   ]
  },
  {
   "cell_type": "code",
   "execution_count": 1,
   "metadata": {},
   "outputs": [],
   "source": [
    "from sympy import *\n",
    "import IPython.display as disp"
   ]
  },
  {
   "attachments": {},
   "cell_type": "markdown",
   "metadata": {},
   "source": [
    "### Variable definition"
   ]
  },
  {
   "cell_type": "code",
   "execution_count": 2,
   "metadata": {},
   "outputs": [],
   "source": [
    "r, r_e, l = symbols(\"r, r_e, ell\")  # dimensions\n",
    "sigma, lmbd, eps = symbols(\"sigma, lambda, epsilon\")  # material properties\n",
    "mu_0, sigma_sb = symbols(\"mu_0, sigma_sb\")  # physical constants\n",
    "t_ext, t_surf = symbols(\"T_ext, T_surf\", real=True, positive=True)  # temperatures\n",
    "H, omega = symbols(\"H, omega\")  # electromagnetic properties\n",
    "\n",
    "values = [\n",
    "    (r_e, 0.06),\n",
    "    (sigma, 58.8e3),\n",
    "    (eps, 0.7),\n",
    "    (sigma_sb, 5.6704e-8),\n",
    "    (t_ext, 300),\n",
    "    (H, 3*100/0.05),  # N*I/l\n",
    "    (mu_0, 4*pi*1e-7),\n",
    "    (omega, 2 * pi* 13.5e3),\n",
    "    (lmbd, 65),\n",
    "    (l, 0.05)\n",
    "]"
   ]
  },
  {
   "attachments": {},
   "cell_type": "markdown",
   "metadata": {},
   "source": [
    "### Compute heat source"
   ]
  },
  {
   "cell_type": "code",
   "execution_count": 3,
   "metadata": {},
   "outputs": [
    {
     "data": {
      "text/latex": [
       "$\\displaystyle \\frac{H \\sqrt{- i} J_{1}\\left(\\frac{r \\sqrt{- i}}{\\sqrt{\\frac{1}{\\mu_{0} \\omega \\sigma}}}\\right)}{\\sqrt{\\frac{1}{\\mu_{0} \\omega \\sigma}} J_{0}\\left(\\frac{r_{e} \\sqrt{- i}}{\\sqrt{\\frac{1}{\\mu_{0} \\omega \\sigma}}}\\right)}$"
      ],
      "text/plain": [
       "H*sqrt(-I)*besselj(1, r*sqrt(-I)/sqrt(1/(mu_0*omega*sigma)))/(sqrt(1/(mu_0*omega*sigma))*besselj(0, r_e*sqrt(-I)/sqrt(1/(mu_0*omega*sigma))))"
      ]
     },
     "metadata": {},
     "output_type": "display_data"
    },
    {
     "data": {
      "text/latex": [
       "$\\displaystyle 1656752.95167065 + 2.66453525910038 \\cdot 10^{-15} i$"
      ],
      "text/plain": [
       "1656752.95167065 + 2.66453525910038e-15*I"
      ]
     },
     "metadata": {},
     "output_type": "display_data"
    },
    {
     "data": {
      "text/latex": [
       "$\\displaystyle Q = \\frac{\\pi \\ell \\int\\limits_{0}^{r_{e}} r \\left|{\\frac{H J_{1}\\left(\\frac{r \\sqrt{- i}}{\\sqrt{\\frac{1}{\\mu_{0} \\omega \\sigma}}}\\right)}{J_{0}\\left(\\frac{r_{e} \\sqrt{- i}}{\\sqrt{\\frac{1}{\\mu_{0} \\omega \\sigma}}}\\right)}}\\right|^{2}\\, dr}{\\sigma \\left|{\\sqrt{\\frac{1}{\\mu_{0} \\omega \\sigma}}}\\right|^{2}}$"
      ],
      "text/plain": [
       "Eq(Q, pi*ell*Integral(r*Abs(H*besselj(1, r*sqrt(-I)/sqrt(1/(mu_0*omega*sigma)))/besselj(0, r_e*sqrt(-I)/sqrt(1/(mu_0*omega*sigma))))**2, (r, 0, r_e))/(sigma*Abs(sqrt(1/(mu_0*omega*sigma)))**2))"
      ]
     },
     "metadata": {},
     "output_type": "display_data"
    },
    {
     "data": {
      "text/latex": [
       "$\\displaystyle 273.760247555939$"
      ],
      "text/plain": [
       "273.760247555939"
      ]
     },
     "metadata": {},
     "output_type": "display_data"
    }
   ],
   "source": [
    "delta =  sqrt(2 / (mu_0 * sigma * omega ))\n",
    "# disp.display(delta)\n",
    "# delta = symbols(\"delta\")\n",
    "m = sqrt(2) *r_e / delta\n",
    "xi = r / r_e\n",
    "j = sqrt(-I)*sqrt(2) * H / delta * besselj(1, sqrt(-I) * m * xi) / besselj(0, sqrt(-I) * m)\n",
    "disp.display(j)\n",
    "\n",
    "h = 1/sigma * abs(j)**2 / 2  # heat source\n",
    "# h = 1/sigma * j * conjugate(j) / 2  # heat source\n",
    "disp.display(h.subs(r, r_e).subs(values).evalf(chop=True))  # this should be 1656752.9516706455 (as computed with scipy)\n",
    "\n",
    "q = integrate(h*r*2*pi*l, (r, 0, r_e))  # total heat in W\n",
    "disp.display(Eq(symbols(\"Q\"), q))\n",
    "disp.display(q.subs(values).evalf(chop=True))\n",
    "\n",
    "# # compute power according to Lupi 2017 p.367 eqn 6.17\n",
    "# P = re(-sqrt(-I) * besselj(1, sqrt(-I) * m) / besselj(0, sqrt(-I) * m))\n",
    "# q_lupi = H**2 / 2 / sigma / delta * 2**0.5 * P * 2 * pi * r_e * l\n",
    "# disp.display(q_lupi.subs(values).evalf())"
   ]
  },
  {
   "attachments": {},
   "cell_type": "markdown",
   "metadata": {},
   "source": [
    "### Compute temperature of outer surface"
   ]
  },
  {
   "cell_type": "code",
   "execution_count": 4,
   "metadata": {},
   "outputs": [
    {
     "data": {
      "text/latex": [
       "$\\displaystyle \\sqrt[4]{\\frac{T_{ext}^{4} \\epsilon \\sigma_{sb} + \\frac{\\int\\limits_{0}^{r_{e}} r \\left|{\\frac{H J_{1}\\left(\\frac{r \\sqrt{- i}}{\\sqrt{\\frac{1}{\\mu_{0} \\omega \\sigma}}}\\right)}{J_{0}\\left(\\frac{r_{e} \\sqrt{- i}}{\\sqrt{\\frac{1}{\\mu_{0} \\omega \\sigma}}}\\right)}}\\right|^{2}\\, dr}{2 r_{e} \\sigma \\left|{\\sqrt{\\frac{1}{\\mu_{0} \\omega \\sigma}}}\\right|^{2}}}{\\epsilon \\sigma_{sb}}}$"
      ],
      "text/plain": [
       "((T_ext**4*epsilon*sigma_sb + Integral(r*Abs(H*besselj(1, r*sqrt(-I)/sqrt(1/(mu_0*omega*sigma)))/besselj(0, r_e*sqrt(-I)/sqrt(1/(mu_0*omega*sigma))))**2, (r, 0, r_e))/(2*r_e*sigma*Abs(sqrt(1/(mu_0*omega*sigma)))**2))/(epsilon*sigma_sb))**(1/4)"
      ]
     },
     "metadata": {},
     "output_type": "display_data"
    },
    {
     "data": {
      "text/latex": [
       "$\\displaystyle 782.017921881341$"
      ],
      "text/plain": [
       "782.017921881341"
      ]
     },
     "metadata": {},
     "output_type": "display_data"
    }
   ],
   "source": [
    "# surface temperature\n",
    "\n",
    "# eq_t_surf = Eq(q, eps*sigma_sb*(t_surf**4 - t_ext**4)*2*pi*r_e*l)\n",
    "# # disp.display(eq_t_surf)\n",
    "# solution = solveset(eq_t_surf, t_surf)\n",
    "# # disp.display(simplify(solution))\n",
    "# disp.display(solution.subs(values).evalf())\n",
    "\n",
    "t_surf = root((q/(2*pi*r_e*l)+eps*sigma_sb*t_ext**4)/ (sigma_sb * eps), 4)\n",
    "disp.display(t_surf)\n",
    "disp.display(t_surf.subs(values).evalf(chop=True))"
   ]
  },
  {
   "attachments": {},
   "cell_type": "markdown",
   "metadata": {},
   "source": [
    "### Compute temperature distribution"
   ]
  },
  {
   "cell_type": "code",
   "execution_count": 5,
   "metadata": {},
   "outputs": [
    {
     "data": {
      "text/latex": [
       "$\\displaystyle \\frac{d^{2}}{d r^{2}} T{\\left(r \\right)} + \\frac{\\frac{d}{d r} T{\\left(r \\right)}}{r} = - \\frac{\\left|{\\frac{H J_{1}\\left(\\frac{r \\sqrt{- i}}{\\sqrt{\\frac{1}{\\mu_{0} \\omega \\sigma}}}\\right)}{J_{0}\\left(\\frac{r_{e} \\sqrt{- i}}{\\sqrt{\\frac{1}{\\mu_{0} \\omega \\sigma}}}\\right)}}\\right|^{2}}{2 \\lambda \\sigma \\left|{\\sqrt{\\frac{1}{\\mu_{0} \\omega \\sigma}}}\\right|^{2}}$"
      ],
      "text/plain": [
       "Eq(Derivative(T(r), (r, 2)) + Derivative(T(r), r)/r, -Abs(H*besselj(1, r*sqrt(-I)/sqrt(1/(mu_0*omega*sigma)))/besselj(0, r_e*sqrt(-I)/sqrt(1/(mu_0*omega*sigma))))**2/(2*lambda*sigma*Abs(sqrt(1/(mu_0*omega*sigma)))**2))"
      ]
     },
     "metadata": {},
     "output_type": "display_data"
    },
    {
     "data": {
      "text/latex": [
       "$\\displaystyle \\frac{d}{d r} T{\\left(0 \\right)} = 0$"
      ],
      "text/plain": [
       "Eq(Derivative(T(0), r), 0)"
      ]
     },
     "metadata": {},
     "output_type": "display_data"
    },
    {
     "data": {
      "text/latex": [
       "$\\displaystyle T{\\left(r_{e} \\right)} = T_{out}$"
      ],
      "text/plain": [
       "Eq(T(r_e), T_out)"
      ]
     },
     "metadata": {},
     "output_type": "display_data"
    },
    {
     "data": {
      "text/latex": [
       "$\\displaystyle T{\\left(r \\right)} = \\frac{2 \\lambda \\sigma \\left(C_{2} \\log{\\left(r \\right)} - C_{2} \\log{\\left(r_{e} \\right)} + T_{out} + \\frac{\\log{\\left(r_{e} \\right)} \\int r_{e} \\left|{\\frac{H^{2} \\mu_{0} \\omega \\sigma J^{2}_{1}\\left(\\frac{r_{e} \\sqrt{- i}}{\\sqrt{\\frac{1}{\\mu_{0} \\omega \\sigma}}}\\right)}{J^{2}_{0}\\left(\\frac{r_{e} \\sqrt{- i}}{\\sqrt{\\frac{1}{\\mu_{0} \\omega \\sigma}}}\\right)}}\\right|\\, dr_{e}}{2 \\lambda \\sigma} - \\frac{\\int r_{e} \\log{\\left(r_{e} \\right)} \\left|{\\frac{H^{2} \\mu_{0} \\omega \\sigma J^{2}_{1}\\left(\\frac{r_{e} \\sqrt{- i}}{\\sqrt{\\frac{1}{\\mu_{0} \\omega \\sigma}}}\\right)}{J^{2}_{0}\\left(\\frac{r_{e} \\sqrt{- i}}{\\sqrt{\\frac{1}{\\mu_{0} \\omega \\sigma}}}\\right)}}\\right|\\, dr_{e}}{2 \\lambda \\sigma}\\right) - \\log{\\left(r \\right)} \\int r \\left|{\\frac{H^{2} \\mu_{0} \\omega \\sigma J^{2}_{1}\\left(\\frac{r \\sqrt{- i}}{\\sqrt{\\frac{1}{\\mu_{0} \\omega \\sigma}}}\\right)}{J^{2}_{0}\\left(\\frac{r_{e} \\sqrt{- i}}{\\sqrt{\\frac{1}{\\mu_{0} \\omega \\sigma}}}\\right)}}\\right|\\, dr + \\int r \\log{\\left(r \\right)} \\left|{\\frac{H^{2} \\mu_{0} \\omega \\sigma J^{2}_{1}\\left(\\frac{r \\sqrt{- i}}{\\sqrt{\\frac{1}{\\mu_{0} \\omega \\sigma}}}\\right)}{J^{2}_{0}\\left(\\frac{r_{e} \\sqrt{- i}}{\\sqrt{\\frac{1}{\\mu_{0} \\omega \\sigma}}}\\right)}}\\right|\\, dr}{2 \\lambda \\sigma}$"
      ],
      "text/plain": [
       "Eq(T(r), (2*lambda*sigma*(C2*log(r) - C2*log(r_e) + T_out + log(r_e)*Integral(r_e*Abs(H**2*mu_0*omega*sigma*besselj(1, r_e*sqrt(-I)/sqrt(1/(mu_0*omega*sigma)))**2/besselj(0, r_e*sqrt(-I)/sqrt(1/(mu_0*omega*sigma)))**2), r_e)/(2*lambda*sigma) - Integral(r_e*log(r_e)*Abs(H**2*mu_0*omega*sigma*besselj(1, r_e*sqrt(-I)/sqrt(1/(mu_0*omega*sigma)))**2/besselj(0, r_e*sqrt(-I)/sqrt(1/(mu_0*omega*sigma)))**2), r_e)/(2*lambda*sigma)) - log(r)*Integral(r*Abs(H**2*mu_0*omega*sigma*besselj(1, r*sqrt(-I)/sqrt(1/(mu_0*omega*sigma)))**2/besselj(0, r_e*sqrt(-I)/sqrt(1/(mu_0*omega*sigma)))**2), r) + Integral(r*log(r)*Abs(H**2*mu_0*omega*sigma*besselj(1, r*sqrt(-I)/sqrt(1/(mu_0*omega*sigma)))**2/besselj(0, r_e*sqrt(-I)/sqrt(1/(mu_0*omega*sigma)))**2), r))/(2*lambda*sigma))"
      ]
     },
     "metadata": {},
     "output_type": "display_data"
    },
    {
     "data": {
      "text/latex": [
       "$\\displaystyle 0 = \\left. \\frac{\\partial}{\\partial r} T{\\left(r \\right)} = \\frac{2 \\lambda \\sigma \\left(C_{2} \\log{\\left(r \\right)} - C_{2} \\log{\\left(r_{e} \\right)} + T_{out} + \\frac{\\log{\\left(r_{e} \\right)} \\int r_{e} \\left|{\\frac{H^{2} \\mu_{0} \\omega \\sigma J^{2}_{1}\\left(\\frac{r_{e} \\sqrt{- i}}{\\sqrt{\\frac{1}{\\mu_{0} \\omega \\sigma}}}\\right)}{J^{2}_{0}\\left(\\frac{r_{e} \\sqrt{- i}}{\\sqrt{\\frac{1}{\\mu_{0} \\omega \\sigma}}}\\right)}}\\right|\\, dr_{e}}{2 \\lambda \\sigma} - \\frac{\\int r_{e} \\log{\\left(r_{e} \\right)} \\left|{\\frac{H^{2} \\mu_{0} \\omega \\sigma J^{2}_{1}\\left(\\frac{r_{e} \\sqrt{- i}}{\\sqrt{\\frac{1}{\\mu_{0} \\omega \\sigma}}}\\right)}{J^{2}_{0}\\left(\\frac{r_{e} \\sqrt{- i}}{\\sqrt{\\frac{1}{\\mu_{0} \\omega \\sigma}}}\\right)}}\\right|\\, dr_{e}}{2 \\lambda \\sigma}\\right) - \\log{\\left(r \\right)} \\int r \\left|{\\frac{H^{2} \\mu_{0} \\omega \\sigma J^{2}_{1}\\left(\\frac{r \\sqrt{- i}}{\\sqrt{\\frac{1}{\\mu_{0} \\omega \\sigma}}}\\right)}{J^{2}_{0}\\left(\\frac{r_{e} \\sqrt{- i}}{\\sqrt{\\frac{1}{\\mu_{0} \\omega \\sigma}}}\\right)}}\\right|\\, dr + \\int r \\log{\\left(r \\right)} \\left|{\\frac{H^{2} \\mu_{0} \\omega \\sigma J^{2}_{1}\\left(\\frac{r \\sqrt{- i}}{\\sqrt{\\frac{1}{\\mu_{0} \\omega \\sigma}}}\\right)}{J^{2}_{0}\\left(\\frac{r_{e} \\sqrt{- i}}{\\sqrt{\\frac{1}{\\mu_{0} \\omega \\sigma}}}\\right)}}\\right|\\, dr}{2 \\lambda \\sigma} \\right|_{\\substack{ r=0 }}$"
      ],
      "text/plain": [
       "Eq(0, Subs(Derivative(Eq(T(r), (2*lambda*sigma*(C2*log(r) - C2*log(r_e) + T_out + log(r_e)*Integral(r_e*Abs(H**2*mu_0*omega*sigma*besselj(1, r_e*sqrt(-I)/sqrt(1/(mu_0*omega*sigma)))**2/besselj(0, r_e*sqrt(-I)/sqrt(1/(mu_0*omega*sigma)))**2), r_e)/(2*lambda*sigma) - Integral(r_e*log(r_e)*Abs(H**2*mu_0*omega*sigma*besselj(1, r_e*sqrt(-I)/sqrt(1/(mu_0*omega*sigma)))**2/besselj(0, r_e*sqrt(-I)/sqrt(1/(mu_0*omega*sigma)))**2), r_e)/(2*lambda*sigma)) - log(r)*Integral(r*Abs(H**2*mu_0*omega*sigma*besselj(1, r*sqrt(-I)/sqrt(1/(mu_0*omega*sigma)))**2/besselj(0, r_e*sqrt(-I)/sqrt(1/(mu_0*omega*sigma)))**2), r) + Integral(r*log(r)*Abs(H**2*mu_0*omega*sigma*besselj(1, r*sqrt(-I)/sqrt(1/(mu_0*omega*sigma)))**2/besselj(0, r_e*sqrt(-I)/sqrt(1/(mu_0*omega*sigma)))**2), r))/(2*lambda*sigma)), r), r, 0))"
      ]
     },
     "metadata": {},
     "output_type": "display_data"
    }
   ],
   "source": [
    "# temperature distribution\n",
    "t_out = symbols(\"T_out\")\n",
    "\n",
    "t = symbols(\"T\", cls=Function)\n",
    "h_r = symbols(\"h\", cls=Function)\n",
    "# diffeq = Eq(diff(t(r), r, r) + 1/r *diff(t(r), r), -h_r(r)/lmbd)\n",
    "diffeq = Eq(diff(t(r), r, r) + 1/r *diff(t(r), r), -h/lmbd)\n",
    "disp.display(diffeq)\n",
    "\n",
    "disp.display(Eq(Derivative(t(0), r), 0))\n",
    "disp.display(Eq(t(r_e), t_out))\n",
    "\n",
    "# t_solution_raw = dsolve(diffeq, t(r))  # works\n",
    "# disp.display(t_solution_raw) \n",
    "# disp.display(Derivative(t_solution_raw, r).doit())\n",
    "# disp.display(Eq(0,diff(t_solution_raw, r).subs(r, 0)))\n",
    "\n",
    "t_solution = dsolve(diffeq, t(r), ics={t(r_e): t_out})  # works\n",
    "disp.display(t_solution)\n",
    "eq_bc2 = Eq(0,diff(t_solution, r).subs(r, 0))\n",
    "disp.display(eq_bc2)\n",
    "\n",
    "# t_solution = dsolve(diffeq, t(r), ics={t(r).diff(r).subs(r, 0): 0})  # fails\n",
    "\n",
    "# full solution\n",
    "# t_solution = dsolve(diffeq, t(r), ics={t(r_e): t_out, t(r).diff(r).subs(r, 0): 0})\n",
    "# disp.display(t_solution)"
   ]
  },
  {
   "cell_type": "code",
   "execution_count": 12,
   "metadata": {},
   "outputs": [
    {
     "ename": "ValueError",
     "evalue": "\nAbsolute values cannot be inverted in the complex domain.",
     "output_type": "error",
     "traceback": [
      "\u001b[1;31m---------------------------------------------------------------------------\u001b[0m",
      "\u001b[1;31mValueError\u001b[0m                                Traceback (most recent call last)",
      "\u001b[1;32mc:\\Users\\enders-seidlitz\\Documents\\GitHub\\crystal-x\\analytical_solution_temperature.ipynb Cell 11\u001b[0m in \u001b[0;36m<cell line: 2>\u001b[1;34m()\u001b[0m\n\u001b[0;32m      <a href='vscode-notebook-cell:/c%3A/Users/enders-seidlitz/Documents/GitHub/crystal-x/analytical_solution_temperature.ipynb#X16sZmlsZQ%3D%3D?line=0'>1</a>\u001b[0m c2 \u001b[39m=\u001b[39m symbols(\u001b[39m\"\u001b[39m\u001b[39mC2\u001b[39m\u001b[39m\"\u001b[39m)\n\u001b[1;32m----> <a href='vscode-notebook-cell:/c%3A/Users/enders-seidlitz/Documents/GitHub/crystal-x/analytical_solution_temperature.ipynb#X16sZmlsZQ%3D%3D?line=1'>2</a>\u001b[0m disp\u001b[39m.\u001b[39mdisplay(solveset(eq_bc2\u001b[39m.\u001b[39;49msubs(values), c2))\n",
      "File \u001b[1;32mc:\\Users\\enders-seidlitz\\Anaconda3\\lib\\site-packages\\sympy\\solvers\\solveset.py:2232\u001b[0m, in \u001b[0;36msolveset\u001b[1;34m(f, symbol, domain)\u001b[0m\n\u001b[0;32m   2230\u001b[0m \u001b[39mif\u001b[39;00m symbol \u001b[39mnot\u001b[39;00m \u001b[39min\u001b[39;00m _rc:\n\u001b[0;32m   2231\u001b[0m     x \u001b[39m=\u001b[39m _rc[\u001b[39m0\u001b[39m] \u001b[39mif\u001b[39;00m domain\u001b[39m.\u001b[39mis_subset(S\u001b[39m.\u001b[39mReals) \u001b[39melse\u001b[39;00m _rc[\u001b[39m1\u001b[39m]\n\u001b[1;32m-> 2232\u001b[0m     rv \u001b[39m=\u001b[39m solveset(f\u001b[39m.\u001b[39;49mxreplace({symbol: x}), x, domain)\n\u001b[0;32m   2233\u001b[0m     \u001b[39m# try to use the original symbol if possible\u001b[39;00m\n\u001b[0;32m   2234\u001b[0m     \u001b[39mtry\u001b[39;00m:\n",
      "File \u001b[1;32mc:\\Users\\enders-seidlitz\\Anaconda3\\lib\\site-packages\\sympy\\solvers\\solveset.py:2256\u001b[0m, in \u001b[0;36msolveset\u001b[1;34m(f, symbol, domain)\u001b[0m\n\u001b[0;32m   2253\u001b[0m     f \u001b[39m=\u001b[39m f\u001b[39m.\u001b[39mxreplace({d: e})\n\u001b[0;32m   2254\u001b[0m f \u001b[39m=\u001b[39m piecewise_fold(f)\n\u001b[1;32m-> 2256\u001b[0m \u001b[39mreturn\u001b[39;00m _solveset(f, symbol, domain, _check\u001b[39m=\u001b[39;49m\u001b[39mTrue\u001b[39;49;00m)\n",
      "File \u001b[1;32mc:\\Users\\enders-seidlitz\\Anaconda3\\lib\\site-packages\\sympy\\solvers\\solveset.py:1053\u001b[0m, in \u001b[0;36m_solveset\u001b[1;34m(f, symbol, domain, _check)\u001b[0m\n\u001b[0;32m   1051\u001b[0m         result \u001b[39m+\u001b[39m\u001b[39m=\u001b[39m solns\n\u001b[0;32m   1052\u001b[0m \u001b[39melif\u001b[39;00m \u001b[39misinstance\u001b[39m(f, Eq):\n\u001b[1;32m-> 1053\u001b[0m     result \u001b[39m=\u001b[39m solver(Add(f\u001b[39m.\u001b[39;49mlhs, \u001b[39m-\u001b[39;49m f\u001b[39m.\u001b[39;49mrhs, evaluate\u001b[39m=\u001b[39;49m\u001b[39mFalse\u001b[39;49;00m), symbol, domain)\n\u001b[0;32m   1055\u001b[0m \u001b[39melif\u001b[39;00m f\u001b[39m.\u001b[39mis_Relational:\n\u001b[0;32m   1056\u001b[0m     \u001b[39mfrom\u001b[39;00m \u001b[39m.\u001b[39;00m\u001b[39minequalities\u001b[39;00m \u001b[39mimport\u001b[39;00m solve_univariate_inequality\n",
      "File \u001b[1;32mc:\\Users\\enders-seidlitz\\Anaconda3\\lib\\site-packages\\sympy\\solvers\\solveset.py:1020\u001b[0m, in \u001b[0;36m_solveset.<locals>.<lambda>\u001b[1;34m(f, x, domain)\u001b[0m\n\u001b[0;32m   1017\u001b[0m         f \u001b[39m=\u001b[39m a\u001b[39m/\u001b[39mm \u001b[39m+\u001b[39m h  \u001b[39m# XXX condition `m != 0` should be added to soln\u001b[39;00m\n\u001b[0;32m   1019\u001b[0m \u001b[39m# assign the solvers to use\u001b[39;00m\n\u001b[1;32m-> 1020\u001b[0m solver \u001b[39m=\u001b[39m \u001b[39mlambda\u001b[39;00m f, x, domain\u001b[39m=\u001b[39mdomain: _solveset(f, x, domain)\n\u001b[0;32m   1021\u001b[0m inverter \u001b[39m=\u001b[39m \u001b[39mlambda\u001b[39;00m f, rhs, symbol: _invert(f, rhs, symbol, domain)\n\u001b[0;32m   1023\u001b[0m result \u001b[39m=\u001b[39m S\u001b[39m.\u001b[39mEmptySet\n",
      "File \u001b[1;32mc:\\Users\\enders-seidlitz\\Anaconda3\\lib\\site-packages\\sympy\\solvers\\solveset.py:1090\u001b[0m, in \u001b[0;36m_solveset\u001b[1;34m(f, symbol, domain, _check)\u001b[0m\n\u001b[0;32m   1086\u001b[0m     result \u001b[39m+\u001b[39m\u001b[39m=\u001b[39m _solve_radical(equation, u,\n\u001b[0;32m   1087\u001b[0m                              symbol,\n\u001b[0;32m   1088\u001b[0m                              solver)\n\u001b[0;32m   1089\u001b[0m \u001b[39melif\u001b[39;00m equation\u001b[39m.\u001b[39mhas(Abs):\n\u001b[1;32m-> 1090\u001b[0m     result \u001b[39m+\u001b[39m\u001b[39m=\u001b[39m _solve_abs(f, symbol, domain)\n\u001b[0;32m   1091\u001b[0m \u001b[39melse\u001b[39;00m:\n\u001b[0;32m   1092\u001b[0m     result_rational \u001b[39m=\u001b[39m _solve_as_rational(equation, symbol, domain)\n",
      "File \u001b[1;32mc:\\Users\\enders-seidlitz\\Anaconda3\\lib\\site-packages\\sympy\\solvers\\solveset.py:898\u001b[0m, in \u001b[0;36m_solve_abs\u001b[1;34m(f, symbol, domain)\u001b[0m\n\u001b[0;32m    896\u001b[0m \u001b[39m\"\"\" Helper function to solve equation involving absolute value function \"\"\"\u001b[39;00m\n\u001b[0;32m    897\u001b[0m \u001b[39mif\u001b[39;00m \u001b[39mnot\u001b[39;00m domain\u001b[39m.\u001b[39mis_subset(S\u001b[39m.\u001b[39mReals):\n\u001b[1;32m--> 898\u001b[0m     \u001b[39mraise\u001b[39;00m \u001b[39mValueError\u001b[39;00m(filldedent(\u001b[39m'''\u001b[39m\n\u001b[0;32m    899\u001b[0m \u001b[39m        Absolute values cannot be inverted in the\u001b[39m\n\u001b[0;32m    900\u001b[0m \u001b[39m        complex domain.\u001b[39m\u001b[39m'''\u001b[39m))\n\u001b[0;32m    901\u001b[0m p, q, r \u001b[39m=\u001b[39m Wild(\u001b[39m'\u001b[39m\u001b[39mp\u001b[39m\u001b[39m'\u001b[39m), Wild(\u001b[39m'\u001b[39m\u001b[39mq\u001b[39m\u001b[39m'\u001b[39m), Wild(\u001b[39m'\u001b[39m\u001b[39mr\u001b[39m\u001b[39m'\u001b[39m)\n\u001b[0;32m    902\u001b[0m pattern_match \u001b[39m=\u001b[39m f\u001b[39m.\u001b[39mmatch(p\u001b[39m*\u001b[39mAbs(q) \u001b[39m+\u001b[39m r) \u001b[39mor\u001b[39;00m {}\n",
      "\u001b[1;31mValueError\u001b[0m: \nAbsolute values cannot be inverted in the complex domain."
     ]
    }
   ],
   "source": [
    "c2 = symbols(\"C2\")\n",
    "disp.display(solveset(eq_bc2.subs(values), c2))"
   ]
  },
  {
   "cell_type": "code",
   "execution_count": 8,
   "metadata": {},
   "outputs": [],
   "source": [
    "# t_final = t_solution.subs(t_out, t_surf).subs(values)\n",
    "# disp.display(t_final)\n",
    "# disp.display(t_final.evalf())"
   ]
  },
  {
   "cell_type": "code",
   "execution_count": null,
   "metadata": {},
   "outputs": [],
   "source": []
  }
 ],
 "metadata": {
  "kernelspec": {
   "display_name": "base",
   "language": "python",
   "name": "python3"
  },
  "language_info": {
   "codemirror_mode": {
    "name": "ipython",
    "version": 3
   },
   "file_extension": ".py",
   "mimetype": "text/x-python",
   "name": "python",
   "nbconvert_exporter": "python",
   "pygments_lexer": "ipython3",
   "version": "3.8.5"
  },
  "orig_nbformat": 4,
  "vscode": {
   "interpreter": {
    "hash": "3fe79ebdfe5b0c72d7b55e99635ccc24fad9d3af4b308f4d9c40912519481577"
   }
  }
 },
 "nbformat": 4,
 "nbformat_minor": 2
}
